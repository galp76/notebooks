{
 "cells": [
  {
   "cell_type": "code",
   "execution_count": null,
   "metadata": {},
   "outputs": [],
   "source": [
    "def formato(w, x, y, z):\n",
    "    global mrgrsd, mrgcct\n",
    "    print(w.rjust(10, ' ')+'| '+x)\n",
    "    print('+'.rjust(11, ' ')+'------')\n",
    "    print(y.rjust(mrgrsd, ' ')+'|'.rjust(mrgcct, ' ')+z)\n",
    "    "
   ]
  },
  {
   "cell_type": "code",
   "execution_count": null,
   "metadata": {},
   "outputs": [],
   "source": [
    "def division(a, b):\n",
    "    global r, c, i, j, mrgrsd, long_a, cct, rsd, a2, d, mrgcct\n",
    "    e=b\n",
    "    if i==0:\n",
    "        d=a2[i]\n",
    "        if d<e:\n",
    "            print('\\nComo '+d+' es menor que '+e+' tenemos que agarrar otro numero a la derecha')\n",
    "            mrgrsd=mrgrsd+1\n",
    "            mrgcct=mrgcct-1\n",
    "            j=j+1\n",
    "            d=d+a[j]\n",
    "        print('\\nNecesitamos un numero que multiplicado por '+e+' sea igual o menor a '+d)\n",
    "        print('\\nCual es ese número?')\n",
    "        f=input()\n",
    "        c=int(d)//int(e)\n",
    "        cct=cct+str(c)\n",
    "        while int(f)!=c:\n",
    "            print('\\nNo es el número que estamos buscando...\\nIntenta nuevamente')\n",
    "            f=input()\n",
    "        print('\\nCorrecto!!!\\n\\nAhora cuanto nos queda de residuo?')\n",
    "        h=input()\n",
    "        r=int(d)%int(e)\n",
    "        rsd.append(str(r))\n",
    "        i=i+1\n",
    "        while int(h)!=r:\n",
    "            "
   ]
  }
 ],
 "metadata": {
  "kernelspec": {
   "display_name": "Python 3",
   "language": "python",
   "name": "python3"
  },
  "language_info": {
   "codemirror_mode": {
    "name": "ipython",
    "version": 3
   },
   "file_extension": ".py",
   "mimetype": "text/x-python",
   "name": "python",
   "nbconvert_exporter": "python",
   "pygments_lexer": "ipython3",
   "version": "3.9.0"
  }
 },
 "nbformat": 4,
 "nbformat_minor": 4
}
