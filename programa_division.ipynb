{
 "cells": [
  {
   "cell_type": "code",
   "execution_count": 2,
   "metadata": {},
   "outputs": [
    {
     "name": "stdout",
     "output_type": "stream",
     "text": [
      "Hola Germán!!!\n",
      "\n",
      "El formato es el siguiente:\n",
      "\n",
      "\"a\" dividido entre \"b\"\n",
      "\n",
      "Por favor introduce el número \"a\"\n"
     ]
    },
    {
     "name": "stdin",
     "output_type": "stream",
     "text": [
      " 68\n"
     ]
    },
    {
     "name": "stdout",
     "output_type": "stream",
     "text": [
      "\n",
      "Ahora introduce el número \"b\"\n"
     ]
    },
    {
     "name": "stdin",
     "output_type": "stream",
     "text": [
      " 0\n"
     ]
    },
    {
     "name": "stdout",
     "output_type": "stream",
     "text": [
      "\n",
      "Por favor introduce un número mayor a 0\n"
     ]
    },
    {
     "name": "stdin",
     "output_type": "stream",
     "text": [
      " 4\n"
     ]
    },
    {
     "name": "stdout",
     "output_type": "stream",
     "text": [
      "\n",
      "Muy bien, vamos a hacer la siguiente división:\n",
      "\n",
      "        68| 4\n",
      "          +------\n",
      "          |\n",
      "\n",
      "Necesitamos un numero que multiplicado por 4 sea igual o menor a 6\n",
      "\n",
      "Cual es ese número?\n"
     ]
    },
    {
     "name": "stdin",
     "output_type": "stream",
     "text": [
      " 1\n"
     ]
    },
    {
     "name": "stdout",
     "output_type": "stream",
     "text": [
      "\n",
      "Correcto!!!\n",
      "\n",
      "Ahora cuanto nos queda de residuo?\n"
     ]
    },
    {
     "name": "stdin",
     "output_type": "stream",
     "text": [
      " 2\n"
     ]
    },
    {
     "name": "stdout",
     "output_type": "stream",
     "text": [
      "\n",
      "Correcto!!!\n",
      "        68| 4\n",
      "          +------\n",
      "        2 |1\n",
      "Bajamos el 8 para continuar con la división:\n",
      "\n",
      "Presiona ENTER para continuar\n"
     ]
    },
    {
     "name": "stdin",
     "output_type": "stream",
     "text": [
      " \n"
     ]
    },
    {
     "name": "stdout",
     "output_type": "stream",
     "text": [
      "        68| 4\n",
      "          +------\n",
      "       28 |1\n",
      "\n",
      "Necesitamos un numero que multiplicado por 4 sea igual o menor a 28\n",
      "\n",
      "Cual es ese número?\n"
     ]
    },
    {
     "name": "stdin",
     "output_type": "stream",
     "text": [
      " 7\n"
     ]
    },
    {
     "name": "stdout",
     "output_type": "stream",
     "text": [
      "\n",
      "Correcto!!!\n",
      "\n",
      "Ahora cuanto nos queda de residuo?\n"
     ]
    },
    {
     "name": "stdin",
     "output_type": "stream",
     "text": [
      " 0\n"
     ]
    },
    {
     "name": "stdout",
     "output_type": "stream",
     "text": [
      "\n",
      "Correcto!!!\n",
      "        68| 4\n",
      "          +------\n",
      "        0 |17\n",
      "\n",
      "\n",
      "Estamos listos Germán...\n"
     ]
    }
   ],
   "source": [
    "def formato(w, x, y, z):\n",
    "    global mrgrsd, mrgcct\n",
    "    print(w.rjust(10, ' ')+'| '+x)\n",
    "    print('+'.rjust(11, ' ')+'------')\n",
    "    print(y.rjust(mrgrsd, ' ')+'|'.rjust(mrgcct, ' ')+z)\n",
    "    \n",
    "\n",
    "def division(a, b):\n",
    "    global r, c, i, j, mrgrsd, long_a, cct, rsd, a2, d, mrgcct\n",
    "    e=b\n",
    "    if i==0:\n",
    "        d=a2[i]\n",
    "        if d<e:\n",
    "            print('\\nComo '+d+' es menor que '+e+' tenemos que agarrar otro numero a la derecha')\n",
    "            mrgrsd=mrgrsd+1\n",
    "            mrgcct=mrgcct-1\n",
    "            j=j+1\n",
    "            d=d+a[j]\n",
    "    print('\\nNecesitamos un numero que multiplicado por '+e+' sea igual o menor a '+d)\n",
    "    print('\\nCual es ese número?')\n",
    "    f=input()\n",
    "    c=int(d)//int(e)\n",
    "    cct=cct+str(c)\n",
    "    while int(f)!=c:\n",
    "        print('\\nNo es el número que estamos buscando...\\nIntenta nuevamente')\n",
    "        f=input()\n",
    "    print('\\nCorrecto!!!\\n\\nAhora cuanto nos queda de residuo?')\n",
    "    h=input()\n",
    "    r=int(d)%int(e)\n",
    "    rsd.append(str(r))\n",
    "    i=i+1\n",
    "    while int(h)!=r:\n",
    "        print('\\nNo es el número que estamos buscando...\\nIntenta nuevamente')\n",
    "        h=input()\n",
    "    print('\\nCorrecto!!!')\n",
    "\n",
    "def bajar_numero(x, y):\n",
    "    global a2, rsd, i, d, j\n",
    "    if j<(long_a):\n",
    "        i=i+1\n",
    "        d=y\n",
    "        d=d+a2[j]\n",
    "        rsd.append(d)\n",
    "        print('Bajamos el '+a2[j]+' para continuar con la división:\\n\\nPresiona ENTER para continuar')\n",
    "        q=input()\n",
    "\n",
    "print('Hola Germán!!!\\n\\nEl formato es el siguiente:\\n\\n\"a\" dividido entre \"b\"\\n\\nPor favor introduce el número \"a\"')\n",
    "a=input()\n",
    "a2=a\n",
    "long_a=len(a)\n",
    "mrgcct=len(a)\n",
    "print('\\nAhora introduce el número \"b\"')\n",
    "b=input()\n",
    "if int(b)==0:\n",
    "    print('\\nPor favor introduce un número mayor a 0')\n",
    "    b=input()\n",
    "c=''\n",
    "d=''\n",
    "r=''\n",
    "cct=''\n",
    "rsd=[' ']\n",
    "i=0\n",
    "j=0\n",
    "mrgrsd=11-long_a\n",
    "print('\\nMuy bien, vamos a hacer la siguiente división:\\n')\n",
    "while j<(long_a):\n",
    "    formato(a2, b, rsd[i], cct)\n",
    "    division(a2, b)\n",
    "    formato(a2, b, rsd[i], cct)\n",
    "    j=j+1\n",
    "    bajar_numero(a2, rsd[i])\n",
    "    a=rsd[i]\n",
    "print('\\n\\nEstamos listos Germán...')"
   ]
  },
  {
   "cell_type": "code",
   "execution_count": null,
   "metadata": {},
   "outputs": [],
   "source": []
  },
  {
   "cell_type": "code",
   "execution_count": null,
   "metadata": {},
   "outputs": [],
   "source": []
  },
  {
   "cell_type": "code",
   "execution_count": null,
   "metadata": {},
   "outputs": [],
   "source": []
  }
 ],
 "metadata": {
  "kernelspec": {
   "display_name": "Python 3",
   "language": "python",
   "name": "python3"
  },
  "language_info": {
   "codemirror_mode": {
    "name": "ipython",
    "version": 3
   },
   "file_extension": ".py",
   "mimetype": "text/x-python",
   "name": "python",
   "nbconvert_exporter": "python",
   "pygments_lexer": "ipython3",
   "version": "3.9.0"
  }
 },
 "nbformat": 4,
 "nbformat_minor": 4
}
